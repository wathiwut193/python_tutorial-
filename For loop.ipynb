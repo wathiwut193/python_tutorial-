{
 "cells": [
  {
   "cell_type": "markdown",
   "metadata": {},
   "source": [
    "รูปเเบบของ for loop ใน python"
   ]
  },
  {
   "cell_type": "raw",
   "metadata": {},
   "source": [
    "for item in variable\n",
    "    do_something"
   ]
  },
  {
   "cell_type": "markdown",
   "metadata": {},
   "source": [
    "การใช้ for loop ดึงต่า string "
   ]
  },
  {
   "cell_type": "code",
   "execution_count": 1,
   "metadata": {},
   "outputs": [],
   "source": [
    "str = \"Michigan\""
   ]
  },
  {
   "cell_type": "code",
   "execution_count": 2,
   "metadata": {},
   "outputs": [
    {
     "name": "stdout",
     "output_type": "stream",
     "text": [
      "M\n",
      "i\n",
      "c\n",
      "h\n",
      "i\n",
      "g\n",
      "a\n",
      "n\n"
     ]
    }
   ],
   "source": [
    "for letter in str:\n",
    "    print(letter )"
   ]
  },
  {
   "cell_type": "markdown",
   "metadata": {},
   "source": [
    "for loop ดึงค่าใน list "
   ]
  },
  {
   "cell_type": "code",
   "execution_count": 3,
   "metadata": {},
   "outputs": [],
   "source": [
    "lst = ['apple','cherries','Blueberries']"
   ]
  },
  {
   "cell_type": "code",
   "execution_count": 4,
   "metadata": {},
   "outputs": [
    {
     "name": "stdout",
     "output_type": "stream",
     "text": [
      "['apple', 'cherries', 'Blueberries']\n",
      "['apple', 'cherries', 'Blueberries']\n",
      "['apple', 'cherries', 'Blueberries']\n"
     ]
    }
   ],
   "source": [
    "for item in lst:\n",
    "    print(lst)"
   ]
  },
  {
   "cell_type": "code",
   "execution_count": 5,
   "metadata": {},
   "outputs": [
    {
     "name": "stdout",
     "output_type": "stream",
     "text": [
      "apple\n",
      "cherries\n",
      "Blueberries\n"
     ]
    }
   ],
   "source": [
    "for item in lst:\n",
    "    print(item)"
   ]
  },
  {
   "cell_type": "markdown",
   "metadata": {},
   "source": [
    "Dictionary การที่เข้าถึงข้อมูลได้ต้องผ่าน key โดย key หรือ value โดย value หรือ key value โดย key value  Dictionary ถ้างงเราดูข้างล่าง\n",
    " Key ของ Dictionary จะอยู่ก่อน \":\" เเละ value คือ สิ่งที่อยู่หลัง \":\" มันจะมองเป็น \"key : value\""
   ]
  },
  {
   "cell_type": "code",
   "execution_count": 7,
   "metadata": {},
   "outputs": [
    {
     "name": "stdout",
     "output_type": "stream",
     "text": [
      "key\n",
      "Summer\n",
      "Red Wings\n"
     ]
    }
   ],
   "source": [
    "dct = {\"key\" : \"value\",\"Summer\":\"Hot\",\"Red Wings\":\"Hockey\"}\n",
    "\n",
    "for key,value in dct.items():\n",
    "    print(key)"
   ]
  },
  {
   "cell_type": "code",
   "execution_count": 8,
   "metadata": {},
   "outputs": [
    {
     "name": "stdout",
     "output_type": "stream",
     "text": [
      "value\n",
      "Hot\n",
      "Hockey\n"
     ]
    }
   ],
   "source": [
    "dct = {\"key\" : \"value\",\"Summer\":\"Hot\",\"Red Wings\":\"Hockey\"}\n",
    "\n",
    "for key,value in dct.items():\n",
    "    print(value)"
   ]
  },
  {
   "cell_type": "markdown",
   "metadata": {},
   "source": [
    "Data frame คือการผ่านทีละแถวหรือแต่ละคอลัมน์ ตามรูปเเบบได้ล่าง"
   ]
  },
  {
   "cell_type": "code",
   "execution_count": 11,
   "metadata": {},
   "outputs": [],
   "source": [
    "import pandas as pd"
   ]
  },
  {
   "cell_type": "code",
   "execution_count": 12,
   "metadata": {},
   "outputs": [],
   "source": [
    "df = pd.DataFrame([['Samantha','F',28],['Corey','M',28],['Maddi','F',6]],columns = ['Name','Sex','Age'])"
   ]
  },
  {
   "cell_type": "code",
   "execution_count": 13,
   "metadata": {},
   "outputs": [
    {
     "name": "stdout",
     "output_type": "stream",
     "text": [
      "Name\n",
      "Sex\n",
      "Age\n"
     ]
    }
   ],
   "source": [
    "for entry in df:\n",
    "    print(entry)"
   ]
  },
  {
   "cell_type": "markdown",
   "metadata": {},
   "source": [
    "ในการที่เราจะวน loop ดึงค่าใน rows พวกเราเรียกว่าเป็นฟังก์ชั่น .iterrows() ในบางกรณีเราต้องการระบุค่าใน series หมายถึง colume พวกเราต้องการค่าจากมันถ้าเราไม่ต้องการระบุค่า series พวกเราพวกเราสนใจ python จะ output ค่าออกมาเฉพาะค่าทรี่ต้องการ"
   ]
  },
  {
   "cell_type": "code",
   "execution_count": 14,
   "metadata": {},
   "outputs": [
    {
     "name": "stdout",
     "output_type": "stream",
     "text": [
      "Samantha\n",
      "Corey\n",
      "Maddi\n"
     ]
    }
   ],
   "source": [
    "for index,entry in df.iterrows():\n",
    "    print(entry['Name'])"
   ]
  },
  {
   "cell_type": "markdown",
   "metadata": {},
   "source": [
    "Series คือการมองเห็นข้อมูลผ่านการวนซ้ำในอนุกรมเหมือนกันกับการวนซ้ำแถวของ Data frame ด้วยคอลัมน์ที่ระบุ python ดูเเตกต่างกัน"
   ]
  },
  {
   "cell_type": "code",
   "execution_count": 15,
   "metadata": {},
   "outputs": [
    {
     "name": "stdout",
     "output_type": "stream",
     "text": [
      "Samantha\n",
      "Corey\n",
      "Maddi\n"
     ]
    }
   ],
   "source": [
    "for entry in df['Name']:\n",
    "    print(entry)"
   ]
  },
  {
   "cell_type": "markdown",
   "metadata": {},
   "source": [
    "Nestloop ใน python"
   ]
  },
  {
   "cell_type": "code",
   "execution_count": 16,
   "metadata": {},
   "outputs": [
    {
     "name": "stdout",
     "output_type": "stream",
     "text": [
      "a\n",
      "p\n",
      "p\n",
      "l\n",
      "e\n"
     ]
    }
   ],
   "source": [
    "for item in lst[0]:\n",
    "    for letter in item:\n",
    "        print(letter)"
   ]
  },
  {
   "cell_type": "code",
   "execution_count": null,
   "metadata": {},
   "outputs": [],
   "source": []
  }
 ],
 "metadata": {
  "kernelspec": {
   "display_name": "Python 3",
   "language": "python",
   "name": "python3"
  },
  "language_info": {
   "codemirror_mode": {
    "name": "ipython",
    "version": 3
   },
   "file_extension": ".py",
   "mimetype": "text/x-python",
   "name": "python",
   "nbconvert_exporter": "python",
   "pygments_lexer": "ipython3",
   "version": "3.6.5"
  }
 },
 "nbformat": 4,
 "nbformat_minor": 2
}

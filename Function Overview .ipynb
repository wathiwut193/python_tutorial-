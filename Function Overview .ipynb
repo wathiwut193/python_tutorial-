{
 "cells": [
  {
   "cell_type": "markdown",
   "metadata": {},
   "source": [
    "Built in function เป็น function ที่มากับ python หรือมาจาก libary สำหรับ python (Pandas,SciPy,NumPy etc.) ตัวอย่างเช่น min() , max(),int(),float() เเละอื่นๆอีกมากมาย"
   ]
  },
  {
   "cell_type": "markdown",
   "metadata": {},
   "source": [
    "ใน python user สามารถ create function เองได้ด้วยตัวเองโดยใช้ def keyword"
   ]
  },
  {
   "cell_type": "raw",
   "metadata": {},
   "source": [
    "def my_func(argument):\n",
    "    do stuff\n",
    "    do more stuff\n",
    "    give result"
   ]
  },
  {
   "cell_type": "markdown",
   "metadata": {},
   "source": [
    "การใช้ function คือการที่เราใช้ใส่ค่าลงไปใน argument "
   ]
  },
  {
   "cell_type": "raw",
   "metadata": {},
   "source": [
    "my_func(argument_passed)"
   ]
  },
  {
   "cell_type": "markdown",
   "metadata": {},
   "source": [
    "# Function example"
   ]
  },
  {
   "cell_type": "markdown",
   "metadata": {},
   "source": [
    "ฟังก์ชั่นเเรก จะใส่เลขเข้าไปใน argument เเล้ว return ค่าออกมาเป็น *10 "
   ]
  },
  {
   "cell_type": "code",
   "execution_count": 2,
   "metadata": {},
   "outputs": [
    {
     "data": {
      "text/plain": [
       "90"
      ]
     },
     "execution_count": 2,
     "metadata": {},
     "output_type": "execute_result"
    }
   ],
   "source": [
    " def times_ten(number):\n",
    "        return number*10\n",
    "times_ten(9)"
   ]
  },
  {
   "cell_type": "markdown",
   "metadata": {},
   "source": [
    "ต่อไปเราจะใส่ logic ลงไปใน function ผลลัพธ์จะ return ออกมาตามที่เราใส่ไปใน argument"
   ]
  },
  {
   "cell_type": "code",
   "execution_count": 4,
   "metadata": {},
   "outputs": [
    {
     "data": {
      "text/plain": [
       "'Think of a bigger world'"
      ]
     },
     "execution_count": 4,
     "metadata": {},
     "output_type": "execute_result"
    }
   ],
   "source": [
    "def word_size(word):\n",
    "    if len(word)>5:\n",
    "        return \"That 's a decent sized word\"\n",
    "    else:\n",
    "        return \"Think of a bigger world\"\n",
    "word_size(\"Hey\")"
   ]
  },
  {
   "cell_type": "code",
   "execution_count": 5,
   "metadata": {},
   "outputs": [
    {
     "data": {
      "text/plain": [
       "\"That 's a decent sized word\""
      ]
     },
     "execution_count": 5,
     "metadata": {},
     "output_type": "execute_result"
    }
   ],
   "source": [
    "word_size('Brilliant')"
   ]
  },
  {
   "cell_type": "code",
   "execution_count": null,
   "metadata": {},
   "outputs": [],
   "source": []
  }
 ],
 "metadata": {
  "kernelspec": {
   "display_name": "Python 3",
   "language": "python",
   "name": "python3"
  },
  "language_info": {
   "codemirror_mode": {
    "name": "ipython",
    "version": 3
   },
   "file_extension": ".py",
   "mimetype": "text/x-python",
   "name": "python",
   "nbconvert_exporter": "python",
   "pygments_lexer": "ipython3",
   "version": "3.6.5"
  }
 },
 "nbformat": 4,
 "nbformat_minor": 2
}

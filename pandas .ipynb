{
 "cells": [
  {
   "cell_type": "markdown",
   "metadata": {},
   "source": [
    " Pandas เเนะนำสำหรับในการจัดการ data frame เเละ series ใน python เเละสำคัญสำหรับการทำ data analysis  data frame โดยเเท้จริงเป็นตารางที่มีเเถวเเละคอลัพธ์\n",
    "เเต่ละคอลัมพ์คือ Series เเละนำเสนอตัวเเปรเเละเเต่ละ เเถว คือ Observation ซึ่งเเสดงถึงรายการ"
   ]
  },
  {
   "cell_type": "code",
   "execution_count": null,
   "metadata": {},
   "outputs": [],
   "source": [
    "โดยค่าเริ่มต้นของ ทั้ง data frame เเละ series คือ "
   ]
  }
 ],
 "metadata": {
  "kernelspec": {
   "display_name": "Python 3",
   "language": "python",
   "name": "python3"
  },
  "language_info": {
   "codemirror_mode": {
    "name": "ipython",
    "version": 3
   },
   "file_extension": ".py",
   "mimetype": "text/x-python",
   "name": "python",
   "nbconvert_exporter": "python",
   "pygments_lexer": "ipython3",
   "version": "3.6.5"
  }
 },
 "nbformat": 4,
 "nbformat_minor": 2
}
